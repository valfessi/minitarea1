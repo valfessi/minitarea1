{
  "nbformat": 4,
  "nbformat_minor": 0,
  "metadata": {
    "colab": {
      "name": "minitarea1_alumnos.ipynb",
      "version": "0.3.2",
      "provenance": []
    },
    "kernelspec": {
      "name": "python3",
      "display_name": "Python 3"
    }
  },
  "cells": [
    {
      "metadata": {
        "id": "m-GSytk-24pP",
        "colab_type": "text"
      },
      "cell_type": "markdown",
      "source": [
        "# EI2001: Ciencia de Datos en Astronomía\n",
        "**Profesores:** Pía Cortés, Daniela Barrientos, Matías Suazo, Matías Mattamala\n",
        "\n",
        "## Minitarea 1: Repaso de python\n",
        "\n",
        "**Objetivos:** \n",
        "1. Repasar conceptos básicos y \"soltar la mano\" con Python\n",
        "2. Comprender el uso de Google Colab\n",
        "3. Integración de Google Colab con GitHub\n",
        "\n",
        "**Instrucciones:**\n",
        "0. Lean cuidadosamente todo lo que viene ahora\n",
        "1. Para hacer esta tarea tienen que hacer un **fork** del repositorio en sus cuentas de GitHub.\n",
        "2. Luego deben habilitar sus cuentas de [Google Colab](https://colab.research.google.com) (cuenta Google requerida)\n",
        "3. Abrir Google Colab y seleccionar \"abrir un archivo desde GitHub\". Deben seleccionar su cuenta Github y escoger el repositorio que corresponde al fork que hicieron.\n",
        "4. Si todo sale bien, debería abrirse una copia de este notebook en su cuenta de Google Colab.\n",
        "5. Se adjuntan 6 mini actividades a completar. TODAS son necesarias y deben completar lo que se va pidiendo.\n",
        "6. Cada vez que completen un ítem, deben guardar un avance en su fork de GitHub, de modo de **respaldar cada avance significativo**. Usen comentarios coherentes con cada respaldo \"Sección 1 completa\", \"Tarea terminada\", no solamente el que pone por defecto."
      ]
    },
    {
      "metadata": {
        "id": "X0NK2VoI4bH-",
        "colab_type": "text"
      },
      "cell_type": "markdown",
      "source": [
        "## 1. Variables\n",
        "\n",
        "Declara la variable `AU` (por Unidad Astronómica en inglés) y asignale su valor correspondiente en kilómetros.\n",
        "Declara la variable `radio_tierra` y también asígnale su valor en kilómetros."
      ]
    },
    {
      "metadata": {
        "id": "B2ekV_QHBmzZ",
        "colab_type": "code",
        "colab": {}
      },
      "cell_type": "code",
      "source": [
        "AU = 149597871\n",
        "radio_tierra = 6378"
      ],
      "execution_count": 0,
      "outputs": []
    },
    {
      "metadata": {
        "id": "PCHHZPIoUap0",
        "colab_type": "text"
      },
      "cell_type": "markdown",
      "source": [
        "(Radio y AU aproximados)"
      ]
    },
    {
      "metadata": {
        "id": "ICYbu84fBo-J",
        "colab_type": "text"
      },
      "cell_type": "markdown",
      "source": [
        "## 2. Listas\n",
        "Declara las siguientes listas, buscando la información correspondiente en internet:\n",
        "\n",
        "1. `planetas` con strings correspondientes a los planetas del sistema solar\n",
        "2. `radio_planetas`, con numeros decimales correspondientes a los radios (o radio medio) de los planetas (en kms), en el mismo orden que los escribiste anteriormente\n",
        "3. `distancia_planetas`, con números decimales correspondientes a la distancia de cada planeta al sol (en kms)\n",
        "\n",
        "Por último, también declara las variable `num_planetas`, `num_radios` y `num_distancias` con el número de elementos de cada lista, obtenido usando funciones de Python. \n",
        "\n",
        "Usa estos números para guardar en la variable `checksum` un valor booleano que indique si los tres valores son iguales, y printealo en pantalla de forma tal que diga _\"Checksum: Todas las listas tienen el mismo tamaño\"_ si el resultado es `True` y _\"Checksum: ERROR: NO todas las listas tienen el mismo tamaño!\"_, si no coinciden.\n",
        "\n",
        "\n",
        "\n",
        "(Dato freak: checksum es un tipo de prueba que se realiza al transferir datos por internet para comprobar que los datos recibidos/enviados tienen el mismo tamaño que deberían. [Más información](https://es.wikipedia.org/wiki/Suma_de_verificaci%C3%B3n))"
      ]
    },
    {
      "metadata": {
        "id": "ggrfJEh8B2dR",
        "colab_type": "code",
        "colab": {
          "base_uri": "https://localhost:8080/",
          "height": 34
        },
        "outputId": "f9e2b5f5-13e1-4a0c-8bdd-ee759312a360"
      },
      "cell_type": "code",
      "source": [
        "planetas = ['Mercurio', 'Venus', 'Tierra', 'Martes', 'Jupiter', 'Saturno', 'Urano', 'Neptuno', 'Pluton']\n",
        "radio_planetas = [2440, 6052, 6378, 3397, 71492, 60268, 25559, 24746, 1160]\n",
        "distancia_planetas = [57910000, 108200000, 149600000, 227940000, 778330000, 1429400000, 2870990000, 4504300000, 5913520000]\n",
        "num_planetas = len(planetas)\n",
        "num_radios = len(radio_planetas)\n",
        "num_distancias = len(distancia_planetas)\n",
        "\n",
        "checksum = (num_planetas == num_radios == num_distancias)\n",
        "if checksum==True:\n",
        "  print(\"Checksum: Todas las listas tienen el mismo tama\\xf1o\")\n",
        "else:\n",
        "  print(\"Checksum: ERROR: NO todas las listas tienen el mismo tamxf1o\")"
      ],
      "execution_count": 4,
      "outputs": [
        {
          "output_type": "stream",
          "text": [
            "Checksum: Todas las listas tienen el mismo tamaño\n"
          ],
          "name": "stdout"
        }
      ]
    },
    {
      "metadata": {
        "id": "E4sM9sigVSsp",
        "colab_type": "text"
      },
      "cell_type": "markdown",
      "source": [
        "Sobre los datos:\n",
        "* Radios medios y distancias aproximados en kms\n",
        "* (Incluye Plutón)\n",
        "Sobre el código:\n",
        "* Ocupo **\\xf1** como ñ (nada más que por costumbre)"
      ]
    },
    {
      "metadata": {
        "id": "AEqz7p5War-8",
        "colab_type": "text"
      },
      "cell_type": "markdown",
      "source": [
        ""
      ]
    },
    {
      "metadata": {
        "id": "FCeFgFPzlCXz",
        "colab_type": "text"
      },
      "cell_type": "markdown",
      "source": [
        "## 3. Clases\n",
        "Crea una clase `Planeta` que:\n",
        "\n",
        "- Tenga las variables internas `nombre`, `radio` y `distancia`, donde el primero es el nombre del planeta, el segundo su radio y el tercero la distancia del planeta al Sol. \n",
        "- El constructor de la clase debe recibir estos tres parámetros al crear un objeto `Planeta`.\n",
        "- Adicionalmente, la clase debe poseer una función `info` que retorne un `string` con el siguiente texto : _NombreDelPlaneta, radio=9999 [km], distancia=9999 [km]_, donde el nombre del planeta y el radio deben obtenerse de las variables internas de la clase.\n",
        "\n",
        "\n",
        "Prueba la clase planeta creando el planeta `vulcano` usando los siguientes datos del ficticio planeta [Vulcano](https://es.wikipedia.org/wiki/Vulcano_(planeta_hipot%C3%A9tico):\n",
        "- **Nombre:** Vulcano\n",
        "- **Radio:** 90 km\n",
        "- **Distancia al sol:** 15,000,000 [km]\n",
        "\n",
        "y printea el `string` que entrega la función `info`."
      ]
    },
    {
      "metadata": {
        "id": "7Q3_QbQKlpQA",
        "colab_type": "code",
        "outputId": "6c6b0ace-abd5-4574-c723-b741099b89a2",
        "colab": {
          "base_uri": "https://localhost:8080/",
          "height": 68
        }
      },
      "cell_type": "code",
      "source": [
        "# Define acá la clase Planeta\n",
        "class Planeta:\n",
        "  def __init__(self, nombre, radio, distancia):\n",
        "    self.nombre=nombre\n",
        "    self.radio=radio\n",
        "    self.distancia=distancia\n",
        "    \n",
        "  def info(self):\n",
        "    print ('Nombre del planeta: '+ self.nombre)\n",
        "    print ('Radio: ' + str(self.radio) + '[km]')\n",
        "    print ('Distancia al sol: ' + str(self.distancia) + '[km]')\n",
        "\n",
        "# aca creamos una instancia de vulcano como Planeta\n",
        "vulcano = Planeta(\"Vulcano\", 90, 15000000)\n",
        "vulcano.info()"
      ],
      "execution_count": 21,
      "outputs": [
        {
          "output_type": "stream",
          "text": [
            "Nombre del planeta: Vulcano\n",
            "Radio: 90[km]\n",
            "Distancia al sol: 15000000[km]\n"
          ],
          "name": "stdout"
        }
      ]
    },
    {
      "metadata": {
        "id": "vAxVTvNWiGFZ",
        "colab_type": "text"
      },
      "cell_type": "markdown",
      "source": [
        "El print no es *exactamente igual* al que pide el enunciado, pero contiene la misma información (y creo que se ve más ordenado)\n",
        "\n",
        "Espero que no sea un problema"
      ]
    },
    {
      "metadata": {
        "id": "h_1Ai1jeB7WT",
        "colab_type": "text"
      },
      "cell_type": "markdown",
      "source": [
        "## 4. Diccionarios\n",
        "Usando las listas de planetas, radios y distancias crea un diccionario `dict_planetas` en que cada _llave_ sea el nombre del planeta, y el valor asignado sea un objeto `Planeta` que se cree usando la información respectiva de cada uno. \n",
        "\n",
        "Prueba que todo esté correcto printeando la información de todos los planetas."
      ]
    },
    {
      "metadata": {
        "id": "u2apsioWCN5_",
        "colab_type": "code",
        "colab": {
          "base_uri": "https://localhost:8080/",
          "height": 629
        },
        "outputId": "a39d92dd-0ad1-44fe-cb39-73a157b9f7a4"
      },
      "cell_type": "code",
      "source": [
        "planetas = ['Mercurio', 'Venus', 'Tierra', 'Martes', 'Jupiter', 'Saturno', 'Urano', 'Neptuno', 'Pluton']\n",
        "radio_planetas = [2440, 6052, 6378, 3397, 71492, 60268, 25559, 24746, 1160]\n",
        "distancia_planetas = [57910000, 108200000, 149600000, 227940000, 778330000, 1429400000, 2870990000, 4504300000, 5913520000]\n",
        "class Planeta:\n",
        "  def __init__(self, nombre, radio, distancia):\n",
        "    self.nombre=nombre\n",
        "    self.radio=radio\n",
        "    self.distancia=distancia\n",
        "    \n",
        "  def info(self):\n",
        "    print ('Nombre del planeta: '+ self.nombre)\n",
        "    print ('Radio: ' + str(self.radio) + '[km]')\n",
        "    print ('Distancia al sol: ' + str(self.distancia) + '[km]')\n",
        "\n",
        "dict_planetas = {\n",
        "    'Mercurio': Planeta(planetas[0], radio_planetas[0], distancia_planetas[0]),\n",
        "    'Venus' : Planeta(planetas[1], radio_planetas[1], distancia_planetas[1]),\n",
        "    'Tierra' : Planeta(planetas[2], radio_planetas[2], distancia_planetas[2]),\n",
        "    'Marte' : Planeta(planetas[3], radio_planetas[3], distancia_planetas[3]),\n",
        "    'Jupiter' : Planeta(planetas[4], radio_planetas[4], distancia_planetas[4]),\n",
        "    'Saturno' : Planeta(planetas[5], radio_planetas[5], distancia_planetas[5]),\n",
        "    'Urano' : Planeta(planetas[6], radio_planetas[6], distancia_planetas[6]),\n",
        "    'Neptuno' :  Planeta(planetas[7], radio_planetas[7], distancia_planetas[7]),\n",
        "    'Pluton' : Planeta(planetas[8], radio_planetas[8], distancia_planetas[8])\n",
        "}\n",
        "for key, val in dict_planetas.items():\n",
        "  val.info()\n",
        "  print(' ')"
      ],
      "execution_count": 24,
      "outputs": [
        {
          "output_type": "stream",
          "text": [
            "Nombre del planeta: Mercurio\n",
            "Radio: 2440[km]\n",
            "Distancia al sol: 57910000[km]\n",
            " \n",
            "Nombre del planeta: Venus\n",
            "Radio: 6052[km]\n",
            "Distancia al sol: 108200000[km]\n",
            " \n",
            "Nombre del planeta: Tierra\n",
            "Radio: 6378[km]\n",
            "Distancia al sol: 149600000[km]\n",
            " \n",
            "Nombre del planeta: Martes\n",
            "Radio: 3397[km]\n",
            "Distancia al sol: 227940000[km]\n",
            " \n",
            "Nombre del planeta: Jupiter\n",
            "Radio: 71492[km]\n",
            "Distancia al sol: 778330000[km]\n",
            " \n",
            "Nombre del planeta: Saturno\n",
            "Radio: 60268[km]\n",
            "Distancia al sol: 1429400000[km]\n",
            " \n",
            "Nombre del planeta: Urano\n",
            "Radio: 25559[km]\n",
            "Distancia al sol: 2870990000[km]\n",
            " \n",
            "Nombre del planeta: Neptuno\n",
            "Radio: 24746[km]\n",
            "Distancia al sol: 4504300000[km]\n",
            " \n",
            "Nombre del planeta: Pluton\n",
            "Radio: 1160[km]\n",
            "Distancia al sol: 5913520000[km]\n",
            " \n"
          ],
          "name": "stdout"
        }
      ]
    },
    {
      "metadata": {
        "id": "9X4nKaZT93rG",
        "colab_type": "text"
      },
      "cell_type": "markdown",
      "source": [
        "Tecnicamente *funciona*\n",
        "\n",
        "Aunque tiene más lineas de las que me gustaría...\n",
        "\n",
        "Y tuve que reescribir las listas porque no me las leía? (*sigo sin saber porque*)"
      ]
    },
    {
      "metadata": {
        "id": "K5V050d_93pd",
        "colab_type": "text"
      },
      "cell_type": "markdown",
      "source": [
        ""
      ]
    },
    {
      "metadata": {
        "id": "n1nhqXDibk1E",
        "colab_type": "text"
      },
      "cell_type": "markdown",
      "source": [
        "## 5. Graficos en Python\n",
        "_(Este es un spoiler de la próxima clase)_\n",
        "\n",
        "Grafica todos los planetas alineados, considerando que el sol está en la posición (0,0). Te servirán las siguientes funciones de Python, usando el _Planeta Vulcano_  que creaste anteriormente como ejemplo. \n",
        "\n",
        "**Usa el bloque de abajo sólo como referencia, tu código deberás escribirlo en el bloque de abajo**"
      ]
    },
    {
      "metadata": {
        "id": "VHtuRLhQq9pG",
        "colab_type": "code",
        "colab": {
          "base_uri": "https://localhost:8080/",
          "height": 444
        },
        "outputId": "5731624e-b1fd-4773-d7dc-afca6455589b"
      },
      "cell_type": "code",
      "source": [
        "# Matplotlib es una libreria que sirve para ahcer graficos como en MATLAB\n",
        "import matplotlib.pyplot as plt\n",
        "\n",
        "vulcano = Planeta(\"Vulcano\", 90, 15000000)\n",
        "# La parte de abajo usa las funciones de matplotlib para graficar un planeta\n",
        "# Primero creamos una figura donde pondremos los objetos\n",
        "fig1 = plt.figure()\n",
        "# Despues creamos el dibujo del planeta como un gráfico de un sólo punto, usando la función PLOT\n",
        "# Primero la coordenada X\n",
        "# el segundo valor es la coordenada Y (usamos 0 por simplicidad)\n",
        "# el tercer valor indica que en vez de hacer un gráfico de líneas, usaremos puntos\n",
        "# el ultimo valor, markersize, indica el tamaño del que queremos dibujar el punto\n",
        "plt.plot(vulcano.distancia, 0, 'o', markersize=vulcano.radio)\n",
        "\n",
        "# La función TEXT nos permite poner un texto\n",
        "# Primero va la coordenada X\n",
        "# Segundo la coordenada Y\n",
        "# Tercera es el texto\n",
        "# Cuarto es la orientación del texto\n",
        "# Finalmente el tamaño del texto\n",
        "plt.text(vulcano.distancia, -0.015, vulcano.info(), rotation=-10, size=12)\n",
        "\n",
        "\n",
        "# Por ultimo ponemos la información que no puede faltar nunca en un gráfico: las etiquetas y titulo\n",
        "plt.xlabel('Distancia al sol [kms])')\n",
        "plt.ylabel('Distancia al sol [kms]')\n",
        "plt.title('Posición de los planetas')"
      ],
      "execution_count": 19,
      "outputs": [
        {
          "output_type": "stream",
          "text": [
            "Nombre del planeta: Vulcano\n",
            "Radio: 90[km]\n",
            "Distancia al sol: 15000000[km]\n"
          ],
          "name": "stdout"
        },
        {
          "output_type": "execute_result",
          "data": {
            "text/plain": [
              "Text(0.5, 1.0, 'Posición de los planetas')"
            ]
          },
          "metadata": {
            "tags": []
          },
          "execution_count": 19
        },
        {
          "output_type": "display_data",
          "data": {
            "image/png": "[encoded data removed]",
            "text/plain": [
              "<Figure size 576x396 with 1 Axes>"
            ]
          },
          "metadata": {
            "tags": []
          }
        }
      ]
    },
    {
      "metadata": {
        "id": "TxPDNv2Rwskp",
        "colab_type": "text"
      },
      "cell_type": "markdown",
      "source": [
        "**Pon tu gráfico de los planetas acá abajo**\n",
        "\n",
        "Hint 1: Si tienes problemas para visualizar los planetas, prueba normalizando los radios de los planetas por una distancia \"conveniente\" como las que buscaste en la primera parte. Lo mismo para las distancias de cada planeta al sol."
      ]
    },
    {
      "metadata": {
        "id": "Z6P5s7DKrK6h",
        "colab_type": "code",
        "colab": {
          "base_uri": "https://localhost:8080/",
          "height": 129
        },
        "outputId": "920d8a09-b88d-445d-931a-225fccb64d91"
      },
      "cell_type": "code",
      "source": [
        "import matplotlib.pyplot as plt\n",
        "\n"
      ],
      "execution_count": 18,
      "outputs": [
        {
          "output_type": "error",
          "ename": "SyntaxError",
          "evalue": "ignored",
          "traceback": [
            "\u001b[0;36m  File \u001b[0;32m\"<ipython-input-18-725685faec94>\"\u001b[0;36m, line \u001b[0;32m16\u001b[0m\n\u001b[0;31m    plt.text(500, -0.015, vulcano.info, rotation=-10, size=12)\u001b[0m\n\u001b[0m      ^\u001b[0m\n\u001b[0;31mSyntaxError\u001b[0m\u001b[0;31m:\u001b[0m invalid syntax\n"
          ]
        }
      ]
    },
    {
      "metadata": {
        "id": "T5dkOv6-1AZ1",
        "colab_type": "text"
      },
      "cell_type": "markdown",
      "source": [
        "## 6. Bonus: Ponte creativ@\n",
        "En esta última parte te pedimos que hagas algún aporte entretenido al trabajo anterior. No olvides comentar adecuadamente el código que generes, ya que tiene que quedar claro qué estas haciendo.\n",
        "\n",
        "Algunas ideas incluyen colorear los planetas con el color más parecido que se pueda, o cambiar sus posiciones espaciales, agregar el sol, entre otras cosas. \n",
        "\n",
        "\n",
        "Este es tu momento de brillar."
      ]
    },
    {
      "metadata": {
        "id": "M2zqXpR12SDy",
        "colab_type": "code",
        "colab": {}
      },
      "cell_type": "code",
      "source": [
        ""
      ],
      "execution_count": 0,
      "outputs": []
    }
  ]
}